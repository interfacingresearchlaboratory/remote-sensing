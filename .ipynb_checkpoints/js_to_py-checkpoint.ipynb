{
 "cells": [
  {
   "cell_type": "markdown",
   "metadata": {},
   "source": [
    "<a href=\"https://githubtocolab.com/giswqs/geemap/blob/master/examples/notebooks/15_convert_js_to_py.ipynb\" target=\"_parent\"><img src=\"https://colab.research.google.com/assets/colab-badge.svg\" alt=\"Open in Colab\"/></a>\n",
    "\n",
    "Uncomment the following line to install [geemap](https://geemap.org) if needed."
   ]
  },
  {
   "cell_type": "code",
   "execution_count": 2,
   "metadata": {},
   "outputs": [],
   "source": [
    "# !pip install geemap"
   ]
  },
  {
   "cell_type": "code",
   "execution_count": 3,
   "metadata": {},
   "outputs": [],
   "source": [
    "import ee\n",
    "import geemap"
   ]
  },
  {
   "cell_type": "code",
   "execution_count": 4,
   "metadata": {},
   "outputs": [
    {
     "data": {
      "application/vnd.jupyter.widget-view+json": {
       "model_id": "9867f41063034ca391e607fa9ea019a6",
       "version_major": 2,
       "version_minor": 0
      },
      "text/plain": [
       "Output(layout=Layout(width='815px'))"
      ]
     },
     "metadata": {},
     "output_type": "display_data"
    }
   ],
   "source": [
    "geemap.show_youtube('nAzZjKKd4w0')"
   ]
  },
  {
   "cell_type": "markdown",
   "metadata": {},
   "source": [
    "You can simply copy and paste your GEE JavaScripts into a code block wrapped with trip quotes and pass it to a variable. \n",
    "\n",
    "For example, you can grap GEE JavaScripts from [GEE Documentation](https://developers.google.com/earth-engine/image_visualization)."
   ]
  },
  {
   "cell_type": "code",
   "execution_count": 5,
   "metadata": {},
   "outputs": [],
   "source": [
    "js_snippet = \"\"\"\n",
    "var img = ee.ImageCollection('COPERNICUS/S2')\n",
    "              .filterBounds(geometry)\n",
    "              .filterDate('2015-01-01','2020-12-31')\n",
    "              .filter(ee.Filter.lt('CLOUDY_PIXEL_PERCENTAGE',5))\n",
    "              .select(['B4','B8']);\n",
    "\n",
    "print(img);\n",
    "\n",
    "var time1 = ee.Filter.date('2016-01-01','2016-01-31');\n",
    "var time2 = ee.Filter.date('2016-06-01','2016-06-30');\n",
    "var time3 = ee.Filter.date('2016-12-01','2016-12-31');\n",
    "\n",
    "var NDVI = ee.Image.cat(\n",
    "            img.filter(time1).mean().normalizedDifference(['B8', 'B4']),\n",
    "            img.filter(time2).mean().normalizedDifference(['B8', 'B4']),\n",
    "            img.filter(time3).mean().normalizedDifference(['B8', 'B4']));\n",
    "\n",
    "\n",
    "//Map.addLayer(NDVI, {min:0, max:0.8});\n",
    "\n",
    "\n",
    "var vizParams = {min: -0.5, max: 1};\n",
    "Map.addLayer(NDVI, vizParams, 'NDVIchange')\n",
    "\n",
    "\n",
    "Export.image.toDrive({\n",
    "  image: NDVI,\n",
    "  description: '2015_2017_2020_TemporalImage',\n",
    "  scale: 30,\n",
    "  region:geometry,\n",
    "  maxPixels: 1824784147411\n",
    "  });\n",
    "\"\"\""
   ]
  },
  {
   "cell_type": "code",
   "execution_count": 6,
   "metadata": {},
   "outputs": [],
   "source": [
    "geemap.js_snippet_to_py(js_snippet, add_new_cell=True, import_ee=True, import_geemap=True, show_map=True)"
   ]
  },
  {
   "cell_type": "code",
   "execution_count": null,
   "metadata": {},
   "outputs": [],
   "source": [
    "import ee\n",
    "import geemap\n",
    "\n",
    "Map = geemap.Map()\n",
    "\n",
    "img = ee.ImageCollection('COPERNICUS/S2') \\\n",
    "              .filterBounds(geometry) \\\n",
    "              .filterDate('2015-01-01','2020-12-31') \\\n",
    "              .filter(ee.Filter.lt('CLOUDY_PIXEL_PERCENTAGE',5)) \\\n",
    "              .select(['B4','B8'])\n",
    "\n",
    "print(img)\n",
    "\n",
    "time1 = ee.Filter.date('2016-01-01','2016-01-31')\n",
    "time2 = ee.Filter.date('2016-06-01','2016-06-30')\n",
    "time3 = ee.Filter.date('2016-12-01','2016-12-31')\n",
    "\n",
    "NDVI = ee.Image.cat(\n",
    "            img.filter(time1).mean().normalizedDifference(['B8', 'B4']),\n",
    "            img.filter(time2).mean().normalizedDifference(['B8', 'B4']),\n",
    "            img.filter(time3).mean().normalizedDifference(['B8', 'B4']))\n",
    "\n",
    "#Map.addLayer(NDVI, {min:0, max:0.8})\n",
    "\n",
    "vizParams = {'min': -0.5, 'max': 1}\n",
    "Map.addLayer(NDVI, vizParams, 'NDVIchange')\n",
    "\n",
    "Export.image.toDrive({\n",
    "  'image': NDVI,\n",
    "  'description': '2015_2017_2020_TemporalImage',\n",
    "  'scale': 30,\n",
    "  'region':geometry,\n",
    "  'maxPixels': 1824784147411\n",
    "  })\n",
    "Map\n"
   ]
  },
  {
   "cell_type": "code",
   "execution_count": null,
   "metadata": {},
   "outputs": [],
   "source": [
    "js_snippet = \"\"\"\n",
    "\n",
    "// Load an image.\n",
    "var image = ee.Image('LANDSAT/LC08/C01/T1_TOA/LC08_044034_20140318');\n",
    "\n",
    "// Create an NDWI image, define visualization parameters and display.\n",
    "var ndwi = image.normalizedDifference(['B3', 'B5']);\n",
    "var ndwiViz = {min: 0.5, max: 1, palette: ['00FFFF', '0000FF']};\n",
    "Map.addLayer(ndwi, ndwiViz, 'NDWI', false);\n",
    "\n",
    "\"\"\""
   ]
  },
  {
   "cell_type": "code",
   "execution_count": null,
   "metadata": {},
   "outputs": [],
   "source": [
    "geemap.js_snippet_to_py(js_snippet)"
   ]
  },
  {
   "cell_type": "code",
   "execution_count": null,
   "metadata": {},
   "outputs": [],
   "source": [
    "js_snippet = \"\"\"\n",
    "\n",
    "// Load 2012 MODIS land cover and select the IGBP classification.\n",
    "var cover = ee.Image('MODIS/051/MCD12Q1/2012_01_01')\n",
    "  .select('Land_Cover_Type_1');\n",
    "\n",
    "// Define a palette for the 18 distinct land cover classes.\n",
    "var igbpPalette = [\n",
    "  'aec3d4', // water\n",
    "  '152106', '225129', '369b47', '30eb5b', '387242', // forest\n",
    "  '6a2325', 'c3aa69', 'b76031', 'd9903d', '91af40',  // shrub, grass\n",
    "  '111149', // wetlands\n",
    "  'cdb33b', // croplands\n",
    "  'cc0013', // urban\n",
    "  '33280d', // crop mosaic\n",
    "  'd7cdcc', // snow and ice\n",
    "  'f7e084', // barren\n",
    "  '6f6f6f'  // tundra\n",
    "];\n",
    "\n",
    "// Specify the min and max labels and the color palette matching the labels.\n",
    "Map.setCenter(-99.229, 40.413, 5);\n",
    "Map.addLayer(cover,\n",
    "             {min: 0, max: 17, palette: igbpPalette},\n",
    "             'IGBP classification');\n",
    "\n",
    "\"\"\""
   ]
  },
  {
   "cell_type": "code",
   "execution_count": null,
   "metadata": {},
   "outputs": [],
   "source": [
    "geemap.js_snippet_to_py(js_snippet)"
   ]
  }
 ],
 "metadata": {
  "hide_input": false,
  "kernelspec": {
   "display_name": "Python 3",
   "language": "python",
   "name": "python3"
  },
  "language_info": {
   "codemirror_mode": {
    "name": "ipython",
    "version": 3
   },
   "file_extension": ".py",
   "mimetype": "text/x-python",
   "name": "python",
   "nbconvert_exporter": "python",
   "pygments_lexer": "ipython3",
   "version": "3.8.5"
  },
  "toc": {
   "base_numbering": 1,
   "nav_menu": {},
   "number_sections": true,
   "sideBar": true,
   "skip_h1_title": true,
   "title_cell": "Table of Contents",
   "title_sidebar": "Table of Contents",
   "toc_cell": false,
   "toc_position": {},
   "toc_section_display": true,
   "toc_window_display": true
  },
  "varInspector": {
   "cols": {
    "lenName": 16,
    "lenType": 16,
    "lenVar": 40
   },
   "kernels_config": {
    "python": {
     "delete_cmd_postfix": "",
     "delete_cmd_prefix": "del ",
     "library": "var_list.py",
     "varRefreshCmd": "print(var_dic_list())"
    },
    "r": {
     "delete_cmd_postfix": ") ",
     "delete_cmd_prefix": "rm(",
     "library": "var_list.r",
     "varRefreshCmd": "cat(var_dic_list()) "
    }
   },
   "types_to_exclude": [
    "module",
    "function",
    "builtin_function_or_method",
    "instance",
    "_Feature"
   ],
   "window_display": false
  }
 },
 "nbformat": 4,
 "nbformat_minor": 4
}
